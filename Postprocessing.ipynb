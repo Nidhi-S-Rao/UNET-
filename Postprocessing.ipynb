{
 "cells": [
  {
   "cell_type": "code",
   "execution_count": 204,
   "metadata": {},
   "outputs": [],
   "source": [
    "#Gaussian filter\n",
    "import cv2\n",
    "import os\n",
    "import imageio\n",
    "import numpy as np\n",
    "path='Images/segmentf3/'\n",
    "path1='Images/segmentf3/'\n",
    "for i in range(55):\n",
    "    img = cv2. imread(path + str(i) + '.png')\n",
    "    blur = cv2.GaussianBlur(img,(3,3),0)\n",
    "    imageio.imwrite(path1 + str(i) + '(g).png',blur)\n",
    "    #cv2. waitKey(0)\n",
    "    #cv2. destroyAllWindows()"
   ]
  },
  {
   "cell_type": "code",
   "execution_count": 205,
   "metadata": {},
   "outputs": [],
   "source": [
    "#erosion\n",
    "import cv2\n",
    "import os\n",
    "import imageio\n",
    "import numpy as np\n",
    "path='Images/segmentf3/'\n",
    "path1='Images/segmentf3/'\n",
    "for i in range(55):\n",
    "    img = cv2. imread(path + str(i) + '(g).png')\n",
    "    kernel = np.ones((5,5),np.uint8)\n",
    "    erosion = cv2.erode(img,kernel,iterations = 1)\n",
    "    imageio.imwrite(path1 + str(i) + '(e).png',erosion)"
   ]
  },
  {
   "cell_type": "code",
   "execution_count": 206,
   "metadata": {},
   "outputs": [],
   "source": [
    "#dilation\n",
    "import cv2\n",
    "import os\n",
    "import imageio\n",
    "import numpy as np\n",
    "path='Images/segmentf3/'\n",
    "path1='Images/segmentf3/'\n",
    "for i in range(55):\n",
    "    img = cv2. imread(path + str(i) + '(e).png')\n",
    "    kernel = np.ones((5,5),np.uint8)\n",
    "    dilation = cv2.dilate(img,kernel,iterations = 1)\n",
    "    imageio.imwrite(path1 + str(i) + '(d).png',dilation)"
   ]
  },
  {
   "cell_type": "code",
   "execution_count": 207,
   "metadata": {},
   "outputs": [],
   "source": [
    "#To convert the segmented test images to binary\n",
    "from PIL import Image\n",
    "path='Images/segmentf3/'\n",
    "path2='Images/segment_binaryf3/'\n",
    "for i in range(55):\n",
    "    img = cv2. imread(path + str(i) + '(d).png',2)\n",
    "    ret, bw_img = cv2. threshold(img,127,255,cv2. THRESH_BINARY)\n",
    "    #cv2. imshow(\"Binary Image\",bw_img)\n",
    "    imageio.imwrite(path2 + str(i) + '.png',bw_img)"
   ]
  },
  {
   "cell_type": "code",
   "execution_count": 208,
   "metadata": {},
   "outputs": [],
   "source": [
    "#To convert the ground truth test images to binary\n",
    "from PIL import Image\n",
    "path='Images/groundtruth/'\n",
    "path2='Images/resize/'\n",
    "for i in range(55):\n",
    "    img=cv2.imread(path+str(i)+'.bmp',2)\n",
    "    ret, bw_img = cv2.threshold(img,0,255,cv2. THRESH_BINARY)\n",
    "    imageio.imwrite(path2 + str(i) + '.png',bw_img)"
   ]
  },
  {
   "cell_type": "code",
   "execution_count": 209,
   "metadata": {},
   "outputs": [],
   "source": [
    "#To resize the ground truth images\n",
    "from PIL import Image\n",
    "path='Images/resize/'\n",
    "path2='Images/resize/'\n",
    "for i in range(55):\n",
    "    img=Image.open(path+str(i)+'.png')\n",
    "    img = img.resize((256,256), Image.ANTIALIAS)\n",
    "    \n",
    "    img.save(path2+str(i)+'.png')"
   ]
  },
  {
   "cell_type": "code",
   "execution_count": 210,
   "metadata": {},
   "outputs": [],
   "source": [
    "#opening\n",
    "import cv2\n",
    "import os\n",
    "import imageio\n",
    "import numpy as np\n",
    "path='Images/segment_binaryf3/'\n",
    "path1='Images/segment_binaryf3/'\n",
    "for i in range(55):\n",
    "    img = cv2. imread(path + str(i) + '.png',2)\n",
    "    kernel = np.ones((5,5), np.uint8) \n",
    "    opening = cv2.morphologyEx(img, cv2.MORPH_OPEN, kernel)\n",
    "    imageio.imwrite(path1 + str(i) + '(o).png',opening)\n",
    "    #cv2. waitKey(0)\n",
    "    #cv2. destroyAllWindows()"
   ]
  },
  {
   "cell_type": "code",
   "execution_count": 211,
   "metadata": {},
   "outputs": [],
   "source": [
    "#closing\n",
    "import cv2\n",
    "import os\n",
    "import imageio\n",
    "import numpy as np\n",
    "path='Images/segment_binaryf3/'\n",
    "path1='Images/segment_binaryf3/'\n",
    "for i in range(55):\n",
    "    img = cv2. imread(path + str(i) + '(o).png',2)\n",
    "    kernel = np.ones((5,5), np.uint8) \n",
    "    closing = cv2.morphologyEx(img, cv2.MORPH_CLOSE, kernel)\n",
    "    imageio.imwrite(path1 + str(i) + '(o).png',closing)\n",
    "    #cv2. waitKey(0)\n",
    "    #cv2. destroyAllWindows()"
   ]
  },
  {
   "cell_type": "code",
   "execution_count": null,
   "metadata": {},
   "outputs": [],
   "source": []
  }
 ],
 "metadata": {
  "kernelspec": {
   "display_name": "pytorch_env",
   "language": "python",
   "name": "pytorch_env"
  },
  "language_info": {
   "codemirror_mode": {
    "name": "ipython",
    "version": 3
   },
   "file_extension": ".py",
   "mimetype": "text/x-python",
   "name": "python",
   "nbconvert_exporter": "python",
   "pygments_lexer": "ipython3",
   "version": "3.7.7"
  }
 },
 "nbformat": 4,
 "nbformat_minor": 2
}
